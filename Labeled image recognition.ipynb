{
 "cells": [
  {
   "cell_type": "code",
   "execution_count": 5,
   "metadata": {},
   "outputs": [
    {
     "name": "stdout",
     "output_type": "stream",
     "text": [
      "There are 1224338 files in the train/ dir\n",
      "There are 1225029 files in the train.csv file\n",
      "There are 14951 unique landmarks in the train.csv file\n",
      "\n",
      "There are 117697 files in the test/ dir\n",
      "There are 117703 files in the test.csv file\n",
      "\n",
      "Missing 691 training files!\n",
      "Missing 6 testing files!\n"
     ]
    }
   ],
   "source": [
    "from sklearn.datasets import load_files\n",
    "from keras.utils import np_utils\n",
    "import numpy as np\n",
    "import pandas as pd\n",
    "import os, os.path\n",
    "\n",
    "\n",
    "raid_train_dir = '/mnt/raid0/Projects/Kaggle/GoogleLandmarkRecognition/train/'\n",
    "raid_test_dir = '/mnt/raid0/Projects/Kaggle/GoogleLandmarkRetrieval/test/'\n",
    "train_csv = '~/Documents/Kaggle/GoogleLandmarkRecognition/train.csv'\n",
    "test_csv = '~/Documents/Kaggle/GoogleLandmarkRecognition/test.csv'\n",
    "\n",
    "# use this function to load the train and test data\n",
    "def load_dataset(path):\n",
    "    data = load_files(path)\n",
    "    image_files = np.array(data['filenames'])\n",
    "    train_targets = np_utils.to_categorical(np.array(data['target']), 133)\n",
    "    return image_files, train_targets\n",
    "\n",
    "# point this to the train.csv file\n",
    "def load_variable_names(path):\n",
    "    # use dtype=None because we have strings and ints\n",
    "    data = pd.read_csv(path, quotechar='\"')\n",
    "    return data\n",
    "\n",
    "# use this to count the images available to learn from\n",
    "def get_total_files(path):\n",
    "    return len([name for name in os.listdir(path) if os.path.isfile(os.path.join(path, name))])\n",
    "\n",
    "#train_files, train_targets = load_dataset('/mnt/raid0/Projects/Kaggle/GoogleLandmarkRecognition')\n",
    "file_info_train = load_variable_names(train_csv)\n",
    "file_info_test = load_variable_names(test_csv)\n",
    "total_files_train = get_total_files(raid_train_dir)\n",
    "total_files_test = get_total_files(raid_test_dir)\n",
    "\n",
    "print('There are %d files in the train/ dir' % total_files_train)\n",
    "print('There are %d files in the train.csv file' % len(file_info_train['id']))\n",
    "print('There are %d unique landmarks in the train.csv file' % len(file_info_train['landmark_id'].unique()))\n",
    "print('\\nThere are %d files in the test/ dir' % total_files_test)\n",
    "print('There are %d files in the test.csv file' % len(file_info_test['id']))\n",
    "\n",
    "print('\\nMissing %d training files!' % (len(file_info_train['id']) - total_files_train))\n",
    "print('Missing %d testing files!' % (len(file_info_test['id']) - total_files_test))\n",
    "    "
   ]
  },
  {
   "cell_type": "code",
   "execution_count": null,
   "metadata": {},
   "outputs": [],
   "source": [
    "# Need to test and configure this code!!\n",
    "from keras import ImageDataGenerator\n",
    "\n",
    "train_datagen = ImageDataGenerator(\n",
    "        rescale=1./255,\n",
    "        shear_range=0.2,\n",
    "        zoom_range=0.2,\n",
    "        horizontal_flip=True)\n",
    "\n",
    "train_generator = train_datagen.flow_from_directory(\n",
    "        raid_train_dir,\n",
    "        target_size=(256, 256),\n",
    "        color_mode='grayscale',\n",
    "        batch_size=1000,\n",
    "        class_mode='categorical')"
   ]
  }
 ],
 "metadata": {
  "kernelspec": {
   "display_name": "Python 3.6(tensorflow)",
   "language": "python",
   "name": "tensorflow"
  },
  "language_info": {
   "codemirror_mode": {
    "name": "ipython",
    "version": 3
   },
   "file_extension": ".py",
   "mimetype": "text/x-python",
   "name": "python",
   "nbconvert_exporter": "python",
   "pygments_lexer": "ipython3",
   "version": "3.6.4"
  }
 },
 "nbformat": 4,
 "nbformat_minor": 2
}
