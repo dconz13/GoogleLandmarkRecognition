{
 "cells": [
  {
   "cell_type": "code",
   "execution_count": 6,
   "metadata": {},
   "outputs": [],
   "source": [
    "# All imports for ease here\n",
    "from sklearn.datasets import load_files\n",
    "from sklearn.model_selection import train_test_split\n",
    "from keras.utils import np_utils\n",
    "import numpy as np\n",
    "import pandas as pd\n",
    "import os, os.path\n",
    "\n",
    "# init local path constants\n",
    "raid_train_dir = '/mnt/raid0/Projects/Kaggle/GoogleLandmarkRecognition/train/'\n",
    "raid_valid_dir = '/mnt/raid0/Projects/Kaggle/GoogleLandmarkRecognition/valid/'\n",
    "raid_test_dir = '/mnt/raid0/Projects/Kaggle/GoogleLandmarkRetrieval/test/'\n",
    "train_csv = '~/Documents/Kaggle/GoogleLandmarkRecognition/train.csv'\n",
    "test_csv = '~/Documents/Kaggle/GoogleLandmarkRecognition/test.csv'"
   ]
  },
  {
   "cell_type": "code",
   "execution_count": 2,
   "metadata": {},
   "outputs": [],
   "source": [
    "# use this function to load the train and test data\n",
    "def load_dataset(path):\n",
    "    data = load_files(path)\n",
    "    image_files = np.array(data['filenames'])\n",
    "    train_targets = np_utils.to_categorical(np.array(data['target']), 133)\n",
    "    return image_files, train_targets\n",
    "\n",
    "# point this to the train.csv file\n",
    "def load_variable_names(path):\n",
    "    # use dtype=None because we have strings and ints\n",
    "    data = pd.read_csv(path, quotechar='\"')\n",
    "    return data\n",
    "\n",
    "# use this to count the images available to learn from\n",
    "def get_total_files(path):\n",
    "    return len([name for name in os.listdir(path) if os.path.isfile(os.path.join(path, name))])"
   ]
  },
  {
   "cell_type": "code",
   "execution_count": 18,
   "metadata": {},
   "outputs": [
    {
     "name": "stdout",
     "output_type": "stream",
     "text": [
      "There are 0 files in the train/ dir\n",
      "There are 1225029 files in the train.csv file\n",
      "There are 14951 unique landmarks in the train.csv file\n",
      "\n",
      "There are 117697 files in the test/ dir\n",
      "There are 117703 files in the test.csv file\n",
      "\n",
      "Missing 1225029 training files!\n",
      "Missing 6 testing files!\n"
     ]
    }
   ],
   "source": [
    "\n",
    "#train_files, train_targets = load_dataset('/mnt/raid0/Projects/Kaggle/GoogleLandmarkRecognition')\n",
    "train_csv_pd = load_variable_names(train_csv)\n",
    "test_csv_pd = load_variable_names(test_csv)\n",
    "\n",
    "total_files_train = get_total_files(raid_train_dir)\n",
    "total_files_test = get_total_files(raid_test_dir)\n",
    "\n",
    "print('There are %d files in the train/ dir' % total_files_train)\n",
    "print('There are %d files in the train.csv file' % len(train_csv_pd['id']))\n",
    "print('There are %d unique landmarks in the train.csv file' % len(train_csv_pd['landmark_id'].unique()))\n",
    "print('\\nThere are %d files in the test/ dir' % total_files_test)\n",
    "print('There are %d files in the test.csv file' % len(test_csv_pd['id']))\n",
    "\n",
    "print('\\nMissing %d training files!' % (len(train_csv_pd['id']) - total_files_train))\n",
    "print('Missing %d testing files!' % (len(test_csv_pd['id']) - total_files_test))\n",
    "    "
   ]
  },
  {
   "cell_type": "code",
   "execution_count": 24,
   "metadata": {},
   "outputs": [],
   "source": [
    "# RESULT : Wound up with a 77-23 split because of missing files. The first time I ran it I got a 84-16 split.\n",
    "#          I tried running it again to get closer to 80 - 20 but because of missing files I ran up with 77-23.\n",
    "\n",
    "# Uncomment to split the training data\n",
    "#raid_practice = '/mnt/raid0/Projects/Kaggle/GoogleLandmarkRecognition/'\n",
    "#raid_practice_train = '/mnt/raid0/Projects/Kaggle/GoogleLandmarkRecognition/train/'\n",
    "#raid_practice_valid = '/mnt/raid0/Projects/Kaggle/GoogleLandmarkRecognition/valid/'\n",
    "#csv_file = '/mnt/raid0/Projects/Kaggle/GoogleLandmarkRecognition/test_valid_split.csv'\n",
    "\n",
    "#csv_file_data = load_variable_names(csv_file)\n",
    "#train, valid = train_test_split(csv_file_data, test_size=0.2)\n",
    "#train, valid = train_test_split(train_csv_pd, test_size=0.04)\n",
    "#print(train)\n",
    "#print('\\n')\n",
    "#print(valid)\n",
    "\n",
    "#for row in valid.itertuples():\n",
    "#    filename = str(row[3]) + '/' + str(row[1]) + '.jpg'\n",
    "#    dirname = str(row[3])\n",
    "#    if os.path.isfile(os.path.join(raid_practice_train, filename)):\n",
    "#        if not os.path.isdir(raid_practice_valid + dirname + '/'):\n",
    "#            os.makedirs(raid_practice_valid + dirname)\n",
    "#        os.rename(raid_practice_train + filename, raid_practice_valid + filename)"
   ]
  },
  {
   "cell_type": "code",
   "execution_count": 52,
   "metadata": {},
   "outputs": [
    {
     "name": "stdout",
     "output_type": "stream",
     "text": [
      "Moved 1224338 Files into 14951 new directories.\n"
     ]
    }
   ],
   "source": [
    "# Change this to True and uncomment if you need to process the data into subdirectories\n",
    "#FORMAT_INTO_SUBDIRECTORY = False\n",
    "    \n",
    "#if FORMAT_INTO_SUBDIRECTORY:\n",
    "#    img_count = 0\n",
    "#    dir_count = 0\n",
    "#    for row in file_info_train.itertuples():\n",
    "#        filename = row[1]+'.jpg'\n",
    "#        dirname = row[3]\n",
    "#        if os.path.isfile(os.path.join(raid_train_dir,filename)):\n",
    "#            if not os.path.isdir(raid_train_dir+str(dirname)+'/'):\n",
    "#                os.makedirs(raid_train_dir+str(dirname))\n",
    "#                dir_count += 1\n",
    "#            os.rename(raid_train_dir+filename, raid_train_dir+str(dirname)+'/'+filename)\n",
    "#            img_count += 1\n",
    "#    print('Moved {0} Files into {1} new directories.'.format(img_count, dir_count))\n"
   ]
  },
  {
   "cell_type": "code",
   "execution_count": null,
   "metadata": {},
   "outputs": [],
   "source": [
    "# Need to test and configure this code!!\n",
    "from keras import ImageDataGenerator\n",
    "\n",
    "train_datagen = ImageDataGenerator(\n",
    "        rescale=1./255,\n",
    "        shear_range=0.2,\n",
    "        zoom_range=0.2,\n",
    "        horizontal_flip=True)\n",
    "\n",
    "test_datagen = ImageDataGenerator(rescale=1./255)\n",
    "\n",
    "train_generator = train_datagen.flow_from_directory(\n",
    "        raid_train_dir,\n",
    "        target_size=(256, 256),\n",
    "        color_mode='grayscale',\n",
    "        batch_size=1000,\n",
    "        class_mode='categorical')\n",
    "\n",
    "valid_generator = test_datagen.flow_from_directory(\n",
    "        raid_valid_dir,\n",
    "        target_size=(256,256),\n",
    "        color_mode='grayscale',\n",
    "        batch_size=1000,\n",
    "        class_mode='categorical')"
   ]
  },
  {
   "cell_type": "code",
   "execution_count": null,
   "metadata": {},
   "outputs": [],
   "source": [
    "from sklearn.cross_validation import StratifiedKFold\n",
    "\n",
    "def load_data():\n",
    "    # load your data using this function\n",
    "\n",
    "def create model():\n",
    "    # create your model using this function\n",
    "\n",
    "def train_and_evaluate__model(model, data[train], labels[train], data[test], labels[test)):\n",
    "    model.fit...\n",
    "    # fit and evaluate here.\n",
    "\n",
    "if __name__ == \"__main__\":\n",
    "    n_folds = 10\n",
    "    data, labels, header_info = load_data()\n",
    "    skf = StratifiedKFold(labels, n_folds=n_folds, shuffle=True)\n",
    "\n",
    "    for i, (train, test) in enumerate(skf):\n",
    "            print \"Running Fold\", i+1, \"/\", n_folds\n",
    "            model = None # Clearing the NN.\n",
    "            model = create_model()\n",
    "            train_and_evaluate_model(model, data[train], labels[train], data[test], labels[test))"
   ]
  }
 ],
 "metadata": {
  "kernelspec": {
   "display_name": "Python 3.6(tensorflow)",
   "language": "python",
   "name": "tensorflow"
  },
  "language_info": {
   "codemirror_mode": {
    "name": "ipython",
    "version": 3
   },
   "file_extension": ".py",
   "mimetype": "text/x-python",
   "name": "python",
   "nbconvert_exporter": "python",
   "pygments_lexer": "ipython3",
   "version": "3.6.4"
  }
 },
 "nbformat": 4,
 "nbformat_minor": 2
}
